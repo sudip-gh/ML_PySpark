{
 "cells": [
  {
   "cell_type": "markdown",
   "id": "5835d607",
   "metadata": {},
   "source": [
    "### Predicting Inssurance Premium "
   ]
  },
  {
   "cell_type": "markdown",
   "id": "ce9b7f13",
   "metadata": {},
   "source": [
    "### Activate pyspark"
   ]
  },
  {
   "cell_type": "code",
   "execution_count": 111,
   "id": "d873a4e7",
   "metadata": {},
   "outputs": [],
   "source": [
    "# This is important to run at the begenning\n",
    "import findspark\n",
    "findspark.init()"
   ]
  },
  {
   "cell_type": "code",
   "execution_count": 112,
   "id": "325c7386",
   "metadata": {},
   "outputs": [],
   "source": [
    "## Start SparkSession\n",
    "from pyspark.sql import SparkSession\n",
    "spark = SparkSession.builder.appName('lr_example').getOrCreate()"
   ]
  },
  {
   "cell_type": "markdown",
   "id": "f7026ad2",
   "metadata": {},
   "source": [
    "### Read data"
   ]
  },
  {
   "cell_type": "code",
   "execution_count": 113,
   "id": "7d84fbe8",
   "metadata": {},
   "outputs": [],
   "source": [
    "datapath ='C:\\\\Users\\\\sshrestha002\\\\Documents\\data\\\\'\n",
    "data = spark.read.csv(datapath+'insurance.csv', header=True, inferSchema=True)"
   ]
  },
  {
   "cell_type": "code",
   "execution_count": 114,
   "id": "c479b718",
   "metadata": {},
   "outputs": [
    {
     "name": "stdout",
     "output_type": "stream",
     "text": [
      "root\n",
      " |-- age: integer (nullable = true)\n",
      " |-- gender: string (nullable = true)\n",
      " |-- bmi: double (nullable = true)\n",
      " |-- children: integer (nullable = true)\n",
      " |-- smoker: string (nullable = true)\n",
      " |-- region: string (nullable = true)\n",
      " |-- expenses: double (nullable = true)\n",
      "\n"
     ]
    }
   ],
   "source": [
    "# gender, smoker and region are strings\n",
    "data.printSchema()"
   ]
  },
  {
   "cell_type": "code",
   "execution_count": 115,
   "id": "4d63426d",
   "metadata": {},
   "outputs": [
    {
     "data": {
      "text/plain": [
       "1338"
      ]
     },
     "execution_count": 115,
     "metadata": {},
     "output_type": "execute_result"
    }
   ],
   "source": [
    "data.count()"
   ]
  },
  {
   "cell_type": "code",
   "execution_count": 116,
   "id": "51769574",
   "metadata": {},
   "outputs": [
    {
     "name": "stdout",
     "output_type": "stream",
     "text": [
      "+---+------+----+--------+------+---------+--------+\n",
      "|age|gender| bmi|children|smoker|   region|expenses|\n",
      "+---+------+----+--------+------+---------+--------+\n",
      "| 19|female|27.9|       0|   yes|southwest|16884.92|\n",
      "| 18|  male|33.8|       1|    no|southeast| 1725.55|\n",
      "+---+------+----+--------+------+---------+--------+\n",
      "only showing top 2 rows\n",
      "\n"
     ]
    }
   ],
   "source": [
    "data.show(2)"
   ]
  },
  {
   "cell_type": "code",
   "execution_count": 117,
   "id": "389e8ec5",
   "metadata": {},
   "outputs": [
    {
     "data": {
      "text/html": [
       "<div>\n",
       "<style scoped>\n",
       "    .dataframe tbody tr th:only-of-type {\n",
       "        vertical-align: middle;\n",
       "    }\n",
       "\n",
       "    .dataframe tbody tr th {\n",
       "        vertical-align: top;\n",
       "    }\n",
       "\n",
       "    .dataframe thead th {\n",
       "        text-align: right;\n",
       "    }\n",
       "</style>\n",
       "<table border=\"1\" class=\"dataframe\">\n",
       "  <thead>\n",
       "    <tr style=\"text-align: right;\">\n",
       "      <th></th>\n",
       "      <th>age</th>\n",
       "      <th>gender</th>\n",
       "      <th>bmi</th>\n",
       "      <th>children</th>\n",
       "      <th>smoker</th>\n",
       "      <th>region</th>\n",
       "      <th>expenses</th>\n",
       "    </tr>\n",
       "  </thead>\n",
       "  <tbody>\n",
       "    <tr>\n",
       "      <th>0</th>\n",
       "      <td>19</td>\n",
       "      <td>female</td>\n",
       "      <td>27.9</td>\n",
       "      <td>0</td>\n",
       "      <td>yes</td>\n",
       "      <td>southwest</td>\n",
       "      <td>16884.92</td>\n",
       "    </tr>\n",
       "    <tr>\n",
       "      <th>1</th>\n",
       "      <td>18</td>\n",
       "      <td>male</td>\n",
       "      <td>33.8</td>\n",
       "      <td>1</td>\n",
       "      <td>no</td>\n",
       "      <td>southeast</td>\n",
       "      <td>1725.55</td>\n",
       "    </tr>\n",
       "    <tr>\n",
       "      <th>2</th>\n",
       "      <td>28</td>\n",
       "      <td>male</td>\n",
       "      <td>33.0</td>\n",
       "      <td>3</td>\n",
       "      <td>no</td>\n",
       "      <td>southeast</td>\n",
       "      <td>4449.46</td>\n",
       "    </tr>\n",
       "    <tr>\n",
       "      <th>3</th>\n",
       "      <td>33</td>\n",
       "      <td>male</td>\n",
       "      <td>22.7</td>\n",
       "      <td>0</td>\n",
       "      <td>no</td>\n",
       "      <td>northwest</td>\n",
       "      <td>21984.47</td>\n",
       "    </tr>\n",
       "    <tr>\n",
       "      <th>4</th>\n",
       "      <td>32</td>\n",
       "      <td>male</td>\n",
       "      <td>28.9</td>\n",
       "      <td>0</td>\n",
       "      <td>no</td>\n",
       "      <td>northwest</td>\n",
       "      <td>3866.86</td>\n",
       "    </tr>\n",
       "  </tbody>\n",
       "</table>\n",
       "</div>"
      ],
      "text/plain": [
       "   age  gender   bmi  children smoker     region  expenses\n",
       "0   19  female  27.9         0    yes  southwest  16884.92\n",
       "1   18    male  33.8         1     no  southeast   1725.55\n",
       "2   28    male  33.0         3     no  southeast   4449.46\n",
       "3   33    male  22.7         0     no  northwest  21984.47\n",
       "4   32    male  28.9         0     no  northwest   3866.86"
      ]
     },
     "execution_count": 117,
     "metadata": {},
     "output_type": "execute_result"
    }
   ],
   "source": [
    "data.toPandas().head(5)"
   ]
  },
  {
   "cell_type": "markdown",
   "id": "cc226636",
   "metadata": {},
   "source": [
    "### EDA"
   ]
  },
  {
   "cell_type": "code",
   "execution_count": 118,
   "id": "d607b8b7",
   "metadata": {},
   "outputs": [
    {
     "data": {
      "text/html": [
       "<div>\n",
       "<style scoped>\n",
       "    .dataframe tbody tr th:only-of-type {\n",
       "        vertical-align: middle;\n",
       "    }\n",
       "\n",
       "    .dataframe tbody tr th {\n",
       "        vertical-align: top;\n",
       "    }\n",
       "\n",
       "    .dataframe thead th {\n",
       "        text-align: right;\n",
       "    }\n",
       "</style>\n",
       "<table border=\"1\" class=\"dataframe\">\n",
       "  <thead>\n",
       "    <tr style=\"text-align: right;\">\n",
       "      <th></th>\n",
       "      <th>0</th>\n",
       "      <th>1</th>\n",
       "      <th>2</th>\n",
       "      <th>3</th>\n",
       "      <th>4</th>\n",
       "    </tr>\n",
       "  </thead>\n",
       "  <tbody>\n",
       "    <tr>\n",
       "      <th>summary</th>\n",
       "      <td>count</td>\n",
       "      <td>mean</td>\n",
       "      <td>stddev</td>\n",
       "      <td>min</td>\n",
       "      <td>max</td>\n",
       "    </tr>\n",
       "    <tr>\n",
       "      <th>age</th>\n",
       "      <td>1338</td>\n",
       "      <td>39.20702541106129</td>\n",
       "      <td>14.049960379216147</td>\n",
       "      <td>18</td>\n",
       "      <td>64</td>\n",
       "    </tr>\n",
       "    <tr>\n",
       "      <th>gender</th>\n",
       "      <td>1338</td>\n",
       "      <td>None</td>\n",
       "      <td>None</td>\n",
       "      <td>female</td>\n",
       "      <td>male</td>\n",
       "    </tr>\n",
       "    <tr>\n",
       "      <th>bmi</th>\n",
       "      <td>1338</td>\n",
       "      <td>30.665470852017993</td>\n",
       "      <td>6.09838219000336</td>\n",
       "      <td>16.0</td>\n",
       "      <td>53.1</td>\n",
       "    </tr>\n",
       "    <tr>\n",
       "      <th>children</th>\n",
       "      <td>1338</td>\n",
       "      <td>1.0949177877429</td>\n",
       "      <td>1.205492739781914</td>\n",
       "      <td>0</td>\n",
       "      <td>5</td>\n",
       "    </tr>\n",
       "    <tr>\n",
       "      <th>smoker</th>\n",
       "      <td>1338</td>\n",
       "      <td>None</td>\n",
       "      <td>None</td>\n",
       "      <td>no</td>\n",
       "      <td>yes</td>\n",
       "    </tr>\n",
       "    <tr>\n",
       "      <th>region</th>\n",
       "      <td>1338</td>\n",
       "      <td>None</td>\n",
       "      <td>None</td>\n",
       "      <td>northeast</td>\n",
       "      <td>southwest</td>\n",
       "    </tr>\n",
       "    <tr>\n",
       "      <th>expenses</th>\n",
       "      <td>1338</td>\n",
       "      <td>13270.422414050803</td>\n",
       "      <td>12110.011239706473</td>\n",
       "      <td>1121.87</td>\n",
       "      <td>63770.43</td>\n",
       "    </tr>\n",
       "  </tbody>\n",
       "</table>\n",
       "</div>"
      ],
      "text/plain": [
       "              0                   1                   2          3          4\n",
       "summary   count                mean              stddev        min        max\n",
       "age        1338   39.20702541106129  14.049960379216147         18         64\n",
       "gender     1338                None                None     female       male\n",
       "bmi        1338  30.665470852017993    6.09838219000336       16.0       53.1\n",
       "children   1338     1.0949177877429   1.205492739781914          0          5\n",
       "smoker     1338                None                None         no        yes\n",
       "region     1338                None                None  northeast  southwest\n",
       "expenses   1338  13270.422414050803  12110.011239706473    1121.87   63770.43"
      ]
     },
     "execution_count": 118,
     "metadata": {},
     "output_type": "execute_result"
    }
   ],
   "source": [
    "## Summary stat\n",
    "data.describe().toPandas().T"
   ]
  },
  {
   "cell_type": "code",
   "execution_count": 119,
   "id": "b4eda6f6",
   "metadata": {},
   "outputs": [
    {
     "name": "stdout",
     "output_type": "stream",
     "text": [
      "+---+------+---+--------+------+------+--------+\n",
      "|age|gender|bmi|children|smoker|region|expenses|\n",
      "+---+------+---+--------+------+------+--------+\n",
      "|  0|     0|  0|       0|     0|     0|       0|\n",
      "+---+------+---+--------+------+------+--------+\n",
      "\n"
     ]
    }
   ],
   "source": [
    "# Check Null\n",
    "from pyspark.sql.functions import isnan, when, count, col\n",
    "data.select([count(when(col(c).isNull(), c)).alias(c) for c in data.columns]).show()"
   ]
  },
  {
   "cell_type": "code",
   "execution_count": 120,
   "id": "9ee8474c",
   "metadata": {},
   "outputs": [
    {
     "name": "stdout",
     "output_type": "stream",
     "text": [
      "+------+-----+\n",
      "|gender|count|\n",
      "+------+-----+\n",
      "|female|  662|\n",
      "|  male|  676|\n",
      "+------+-----+\n",
      "\n"
     ]
    }
   ],
   "source": [
    "# Check distribution of categorical variables\n",
    "data.groupBy(data.gender).count().show()"
   ]
  },
  {
   "cell_type": "code",
   "execution_count": 121,
   "id": "ce490d1f",
   "metadata": {},
   "outputs": [
    {
     "name": "stdout",
     "output_type": "stream",
     "text": [
      "+--------+-----+\n",
      "|children|count|\n",
      "+--------+-----+\n",
      "|       1|  324|\n",
      "|       3|  157|\n",
      "|       5|   18|\n",
      "|       4|   25|\n",
      "|       2|  240|\n",
      "|       0|  574|\n",
      "+--------+-----+\n",
      "\n"
     ]
    }
   ],
   "source": [
    "data.groupBy(data.children).count().show()"
   ]
  },
  {
   "cell_type": "code",
   "execution_count": 122,
   "id": "19fa14eb",
   "metadata": {},
   "outputs": [
    {
     "name": "stdout",
     "output_type": "stream",
     "text": [
      "+---------+-----+\n",
      "|   region|count|\n",
      "+---------+-----+\n",
      "|northwest|  325|\n",
      "|southeast|  364|\n",
      "|northeast|  324|\n",
      "|southwest|  325|\n",
      "+---------+-----+\n",
      "\n"
     ]
    }
   ],
   "source": [
    "data.groupBy(data.region).count().show()"
   ]
  },
  {
   "cell_type": "markdown",
   "id": "f98d654f",
   "metadata": {},
   "source": [
    "### StringIndexer, OneHotEncoder, VectorAssembler"
   ]
  },
  {
   "cell_type": "code",
   "execution_count": 123,
   "id": "df34229d",
   "metadata": {},
   "outputs": [
    {
     "data": {
      "text/plain": [
       "['age', 'gender', 'bmi', 'children', 'smoker', 'region', 'expenses']"
      ]
     },
     "execution_count": 123,
     "metadata": {},
     "output_type": "execute_result"
    }
   ],
   "source": [
    "# gender, smoker and region are strings\n",
    "data.columns"
   ]
  },
  {
   "cell_type": "code",
   "execution_count": 124,
   "id": "de63b894",
   "metadata": {},
   "outputs": [],
   "source": [
    "# Import\n",
    "from pyspark.ml.feature import (StringIndexer, OneHotEncoder, VectorAssembler)"
   ]
  },
  {
   "cell_type": "code",
   "execution_count": 125,
   "id": "6006cd33",
   "metadata": {},
   "outputs": [],
   "source": [
    "# For all categorical variables, convert categories to numbers\n",
    "gender_indexer = StringIndexer(inputCol = 'gender', outputCol='genderNum')\n",
    "smoker_indexer = StringIndexer(inputCol = 'smoker', outputCol='smokerNum')\n",
    "region_indexer = StringIndexer(inputCol = 'region', outputCol='regionNum')\n",
    "data = gender_indexer.fit(data).transform(data)\n",
    "data = smoker_indexer.fit(data).transform(data)\n",
    "data = region_indexer.fit(data).transform(data)"
   ]
  },
  {
   "cell_type": "code",
   "execution_count": 126,
   "id": "22a1e9ae",
   "metadata": {},
   "outputs": [
    {
     "name": "stdout",
     "output_type": "stream",
     "text": [
      "+---+------+----+--------+------+---------+--------+---------+---------+---------+\n",
      "|age|gender| bmi|children|smoker|   region|expenses|genderNum|smokerNum|regionNum|\n",
      "+---+------+----+--------+------+---------+--------+---------+---------+---------+\n",
      "| 19|female|27.9|       0|   yes|southwest|16884.92|      1.0|      1.0|      2.0|\n",
      "| 18|  male|33.8|       1|    no|southeast| 1725.55|      0.0|      0.0|      0.0|\n",
      "| 28|  male|33.0|       3|    no|southeast| 4449.46|      0.0|      0.0|      0.0|\n",
      "+---+------+----+--------+------+---------+--------+---------+---------+---------+\n",
      "only showing top 3 rows\n",
      "\n"
     ]
    }
   ],
   "source": [
    "data.show(3)"
   ]
  },
  {
   "cell_type": "code",
   "execution_count": 127,
   "id": "d9f583f2",
   "metadata": {},
   "outputs": [],
   "source": [
    "# For all converted numeric form, now change to one hot encoded column\n",
    "gender_encoder = OneHotEncoder(inputCol = 'genderNum', outputCol='genderVec')\n",
    "smoker_encoder = OneHotEncoder(inputCol = 'smokerNum', outputCol='smokerVec')\n",
    "region_encoder = OneHotEncoder(inputCol = 'regionNum', outputCol='regionVec')\n",
    "onehotdata = gender_encoder.fit(data).transform(data)\n",
    "onehotdata = smoker_encoder.fit(onehotdata).transform(onehotdata)\n",
    "onehotdata = region_encoder.fit(onehotdata).transform(onehotdata)"
   ]
  },
  {
   "cell_type": "code",
   "execution_count": 128,
   "id": "19b58117",
   "metadata": {},
   "outputs": [
    {
     "name": "stdout",
     "output_type": "stream",
     "text": [
      "+---+------+----+--------+------+---------+--------+---------+---------+---------+-------------+-------------+-------------+\n",
      "|age|gender| bmi|children|smoker|   region|expenses|genderNum|smokerNum|regionNum|    genderVec|    smokerVec|    regionVec|\n",
      "+---+------+----+--------+------+---------+--------+---------+---------+---------+-------------+-------------+-------------+\n",
      "| 19|female|27.9|       0|   yes|southwest|16884.92|      1.0|      1.0|      2.0|    (1,[],[])|    (1,[],[])|(3,[2],[1.0])|\n",
      "| 18|  male|33.8|       1|    no|southeast| 1725.55|      0.0|      0.0|      0.0|(1,[0],[1.0])|(1,[0],[1.0])|(3,[0],[1.0])|\n",
      "| 28|  male|33.0|       3|    no|southeast| 4449.46|      0.0|      0.0|      0.0|(1,[0],[1.0])|(1,[0],[1.0])|(3,[0],[1.0])|\n",
      "+---+------+----+--------+------+---------+--------+---------+---------+---------+-------------+-------------+-------------+\n",
      "only showing top 3 rows\n",
      "\n"
     ]
    }
   ],
   "source": [
    "onehotdata.show(3)"
   ]
  },
  {
   "cell_type": "code",
   "execution_count": 129,
   "id": "36491dcf",
   "metadata": {},
   "outputs": [
    {
     "name": "stdout",
     "output_type": "stream",
     "text": [
      "['age', 'gender', 'bmi', 'children', 'smoker', 'region', 'expenses', 'genderNum', 'smokerNum', 'regionNum', 'genderVec', 'smokerVec', 'regionVec']\n"
     ]
    }
   ],
   "source": [
    "print(onehotdata.columns)"
   ]
  },
  {
   "cell_type": "code",
   "execution_count": 130,
   "id": "7d55b031",
   "metadata": {},
   "outputs": [],
   "source": [
    "# Assembler all columns into a vector \n",
    "assembler = VectorAssembler(\n",
    "    inputCols=['age','bmi','children','genderVec','smokerVec','regionVec'],\n",
    "    outputCol='features')\n",
    "output = assembler.transform(onehotdata)"
   ]
  },
  {
   "cell_type": "code",
   "execution_count": 131,
   "id": "df09f3fb",
   "metadata": {},
   "outputs": [
    {
     "name": "stdout",
     "output_type": "stream",
     "text": [
      "+---+------+----+--------+------+---------+--------+---------+---------+---------+-------------+-------------+-------------+--------------------+\n",
      "|age|gender| bmi|children|smoker|   region|expenses|genderNum|smokerNum|regionNum|    genderVec|    smokerVec|    regionVec|            features|\n",
      "+---+------+----+--------+------+---------+--------+---------+---------+---------+-------------+-------------+-------------+--------------------+\n",
      "| 19|female|27.9|       0|   yes|southwest|16884.92|      1.0|      1.0|      2.0|    (1,[],[])|    (1,[],[])|(3,[2],[1.0])|(8,[0,1,7],[19.0,...|\n",
      "| 18|  male|33.8|       1|    no|southeast| 1725.55|      0.0|      0.0|      0.0|(1,[0],[1.0])|(1,[0],[1.0])|(3,[0],[1.0])|[18.0,33.8,1.0,1....|\n",
      "| 28|  male|33.0|       3|    no|southeast| 4449.46|      0.0|      0.0|      0.0|(1,[0],[1.0])|(1,[0],[1.0])|(3,[0],[1.0])|[28.0,33.0,3.0,1....|\n",
      "+---+------+----+--------+------+---------+--------+---------+---------+---------+-------------+-------------+-------------+--------------------+\n",
      "only showing top 3 rows\n",
      "\n"
     ]
    }
   ],
   "source": [
    "output.show(3)"
   ]
  },
  {
   "cell_type": "code",
   "execution_count": 132,
   "id": "22521691",
   "metadata": {},
   "outputs": [
    {
     "name": "stdout",
     "output_type": "stream",
     "text": [
      "+--------------------+--------+\n",
      "|            features|expenses|\n",
      "+--------------------+--------+\n",
      "|(8,[0,1,7],[19.0,...|16884.92|\n",
      "|[18.0,33.8,1.0,1....| 1725.55|\n",
      "|[28.0,33.0,3.0,1....| 4449.46|\n",
      "+--------------------+--------+\n",
      "only showing top 3 rows\n",
      "\n"
     ]
    }
   ],
   "source": [
    "# Create a final data with features and Y column : expenses\n",
    "finaldata = output.select('features','expenses')\n",
    "finaldata.show(3)"
   ]
  },
  {
   "cell_type": "markdown",
   "id": "966e813f",
   "metadata": {},
   "source": [
    "### Split data\n"
   ]
  },
  {
   "cell_type": "code",
   "execution_count": 133,
   "id": "61f240b9",
   "metadata": {},
   "outputs": [
    {
     "name": "stdout",
     "output_type": "stream",
     "text": [
      "Training size 929\n",
      "Testing size 409\n"
     ]
    }
   ],
   "source": [
    "train,test = finaldata.randomSplit([0.7,0.3], seed=2040)\n",
    "print('Training size', train.count())\n",
    "print('Testing size', test.count())"
   ]
  },
  {
   "cell_type": "code",
   "execution_count": 173,
   "id": "dbd7b3d2",
   "metadata": {},
   "outputs": [
    {
     "data": {
      "text/html": [
       "<div>\n",
       "<style scoped>\n",
       "    .dataframe tbody tr th:only-of-type {\n",
       "        vertical-align: middle;\n",
       "    }\n",
       "\n",
       "    .dataframe tbody tr th {\n",
       "        vertical-align: top;\n",
       "    }\n",
       "\n",
       "    .dataframe thead th {\n",
       "        text-align: right;\n",
       "    }\n",
       "</style>\n",
       "<table border=\"1\" class=\"dataframe\">\n",
       "  <thead>\n",
       "    <tr style=\"text-align: right;\">\n",
       "      <th></th>\n",
       "      <th>0</th>\n",
       "      <th>1</th>\n",
       "      <th>2</th>\n",
       "      <th>3</th>\n",
       "      <th>4</th>\n",
       "    </tr>\n",
       "  </thead>\n",
       "  <tbody>\n",
       "    <tr>\n",
       "      <th>summary</th>\n",
       "      <td>count</td>\n",
       "      <td>mean</td>\n",
       "      <td>stddev</td>\n",
       "      <td>min</td>\n",
       "      <td>max</td>\n",
       "    </tr>\n",
       "    <tr>\n",
       "      <th>expenses</th>\n",
       "      <td>929</td>\n",
       "      <td>13217.489429494099</td>\n",
       "      <td>12226.787074462132</td>\n",
       "      <td>1121.87</td>\n",
       "      <td>63770.43</td>\n",
       "    </tr>\n",
       "  </tbody>\n",
       "</table>\n",
       "</div>"
      ],
      "text/plain": [
       "              0                   1                   2        3         4\n",
       "summary   count                mean              stddev      min       max\n",
       "expenses    929  13217.489429494099  12226.787074462132  1121.87  63770.43"
      ]
     },
     "execution_count": 173,
     "metadata": {},
     "output_type": "execute_result"
    }
   ],
   "source": [
    "## Summary stat\n",
    "train.describe().toPandas().T"
   ]
  },
  {
   "cell_type": "code",
   "execution_count": 175,
   "id": "f43fafdf",
   "metadata": {},
   "outputs": [
    {
     "data": {
      "text/html": [
       "<div>\n",
       "<style scoped>\n",
       "    .dataframe tbody tr th:only-of-type {\n",
       "        vertical-align: middle;\n",
       "    }\n",
       "\n",
       "    .dataframe tbody tr th {\n",
       "        vertical-align: top;\n",
       "    }\n",
       "\n",
       "    .dataframe thead th {\n",
       "        text-align: right;\n",
       "    }\n",
       "</style>\n",
       "<table border=\"1\" class=\"dataframe\">\n",
       "  <thead>\n",
       "    <tr style=\"text-align: right;\">\n",
       "      <th></th>\n",
       "      <th>0</th>\n",
       "      <th>1</th>\n",
       "      <th>2</th>\n",
       "      <th>3</th>\n",
       "      <th>4</th>\n",
       "    </tr>\n",
       "  </thead>\n",
       "  <tbody>\n",
       "    <tr>\n",
       "      <th>summary</th>\n",
       "      <td>count</td>\n",
       "      <td>mean</td>\n",
       "      <td>stddev</td>\n",
       "      <td>min</td>\n",
       "      <td>max</td>\n",
       "    </tr>\n",
       "    <tr>\n",
       "      <th>expenses</th>\n",
       "      <td>409</td>\n",
       "      <td>13390.65405867973</td>\n",
       "      <td>11854.404262558885</td>\n",
       "      <td>1242.26</td>\n",
       "      <td>49577.66</td>\n",
       "    </tr>\n",
       "  </tbody>\n",
       "</table>\n",
       "</div>"
      ],
      "text/plain": [
       "              0                  1                   2        3         4\n",
       "summary   count               mean              stddev      min       max\n",
       "expenses    409  13390.65405867973  11854.404262558885  1242.26  49577.66"
      ]
     },
     "execution_count": 175,
     "metadata": {},
     "output_type": "execute_result"
    }
   ],
   "source": [
    "## Summary stat\n",
    "test.describe().toPandas().T"
   ]
  },
  {
   "cell_type": "markdown",
   "id": "81e4d7b7",
   "metadata": {},
   "source": [
    "### linear Regression"
   ]
  },
  {
   "cell_type": "code",
   "execution_count": 134,
   "id": "8ea2f300",
   "metadata": {},
   "outputs": [],
   "source": [
    "# Import \n",
    "from pyspark.ml.regression import LinearRegression, LinearRegressionModel, RandomForestRegressionModel"
   ]
  },
  {
   "cell_type": "code",
   "execution_count": 135,
   "id": "1100614f",
   "metadata": {},
   "outputs": [],
   "source": [
    "# Fit the model\n",
    "linreg = LinearRegression(featuresCol='features', labelCol='expenses')\n",
    "lr_model = linreg.fit(train)"
   ]
  },
  {
   "cell_type": "code",
   "execution_count": 136,
   "id": "46e2e5e0",
   "metadata": {},
   "outputs": [
    {
     "name": "stdout",
     "output_type": "stream",
     "text": [
      "Intercept :\n",
      " 11916.1337364216\n",
      "Coefficients :\n",
      " [268.39197284742806,334.68082799521943,477.31295799455654,274.73975503652383,-24300.556923781278,-958.4305098250376,-355.41109363634865,-1167.3186319849897]\n"
     ]
    }
   ],
   "source": [
    "# Print coefficients\n",
    "print('Intercept :\\n', lr_model.intercept)\n",
    "print('Coefficients :\\n', lr_model.coefficients)"
   ]
  },
  {
   "cell_type": "markdown",
   "id": "35618339",
   "metadata": {},
   "source": [
    "#### Format results to create a nice output table"
   ]
  },
  {
   "cell_type": "code",
   "execution_count": 137,
   "id": "7144706d",
   "metadata": {},
   "outputs": [],
   "source": [
    "outdata = lr_model.transform(train)\n",
    "numericdata = outdata.select('features').schema[0].metadata.get('ml_attr').get('attrs').get('numeric')\n",
    "binarydata = outdata.select('features').schema[0].metadata.get('ml_attr').get('attrs').get('binary')\n",
    "merged_list = numericdata+binarydata"
   ]
  },
  {
   "cell_type": "code",
   "execution_count": 138,
   "id": "4ea2060d",
   "metadata": {},
   "outputs": [
    {
     "data": {
      "text/plain": [
       "[{'idx': 0, 'name': 'age'},\n",
       " {'idx': 1, 'name': 'bmi'},\n",
       " {'idx': 2, 'name': 'children'},\n",
       " {'idx': 3, 'name': 'genderVec_male'},\n",
       " {'idx': 4, 'name': 'smokerVec_no'},\n",
       " {'idx': 5, 'name': 'regionVec_southeast'},\n",
       " {'idx': 6, 'name': 'regionVec_northwest'},\n",
       " {'idx': 7, 'name': 'regionVec_southwest'}]"
      ]
     },
     "execution_count": 138,
     "metadata": {},
     "output_type": "execute_result"
    }
   ],
   "source": [
    "merged_list"
   ]
  },
  {
   "cell_type": "code",
   "execution_count": 139,
   "id": "d13d1ed1",
   "metadata": {},
   "outputs": [
    {
     "data": {
      "text/html": [
       "<div>\n",
       "<style scoped>\n",
       "    .dataframe tbody tr th:only-of-type {\n",
       "        vertical-align: middle;\n",
       "    }\n",
       "\n",
       "    .dataframe tbody tr th {\n",
       "        vertical-align: top;\n",
       "    }\n",
       "\n",
       "    .dataframe thead th {\n",
       "        text-align: right;\n",
       "    }\n",
       "</style>\n",
       "<table border=\"1\" class=\"dataframe\">\n",
       "  <thead>\n",
       "    <tr style=\"text-align: right;\">\n",
       "      <th></th>\n",
       "      <th>idx</th>\n",
       "      <th>name</th>\n",
       "    </tr>\n",
       "  </thead>\n",
       "  <tbody>\n",
       "    <tr>\n",
       "      <th>0</th>\n",
       "      <td>0</td>\n",
       "      <td>age</td>\n",
       "    </tr>\n",
       "    <tr>\n",
       "      <th>1</th>\n",
       "      <td>1</td>\n",
       "      <td>bmi</td>\n",
       "    </tr>\n",
       "    <tr>\n",
       "      <th>2</th>\n",
       "      <td>2</td>\n",
       "      <td>children</td>\n",
       "    </tr>\n",
       "    <tr>\n",
       "      <th>3</th>\n",
       "      <td>3</td>\n",
       "      <td>genderVec_male</td>\n",
       "    </tr>\n",
       "    <tr>\n",
       "      <th>4</th>\n",
       "      <td>4</td>\n",
       "      <td>smokerVec_no</td>\n",
       "    </tr>\n",
       "    <tr>\n",
       "      <th>5</th>\n",
       "      <td>5</td>\n",
       "      <td>regionVec_southeast</td>\n",
       "    </tr>\n",
       "    <tr>\n",
       "      <th>6</th>\n",
       "      <td>6</td>\n",
       "      <td>regionVec_northwest</td>\n",
       "    </tr>\n",
       "    <tr>\n",
       "      <th>7</th>\n",
       "      <td>7</td>\n",
       "      <td>regionVec_southwest</td>\n",
       "    </tr>\n",
       "  </tbody>\n",
       "</table>\n",
       "</div>"
      ],
      "text/plain": [
       "   idx                 name\n",
       "0    0                  age\n",
       "1    1                  bmi\n",
       "2    2             children\n",
       "3    3       genderVec_male\n",
       "4    4         smokerVec_no\n",
       "5    5  regionVec_southeast\n",
       "6    6  regionVec_northwest\n",
       "7    7  regionVec_southwest"
      ]
     },
     "execution_count": 139,
     "metadata": {},
     "output_type": "execute_result"
    }
   ],
   "source": [
    "# Create a pandas df\n",
    "import pandas as pd\n",
    "result = pd.DataFrame(merged_list)\n",
    "result"
   ]
  },
  {
   "cell_type": "code",
   "execution_count": 140,
   "id": "2829f379",
   "metadata": {},
   "outputs": [],
   "source": [
    "# Add other stats\n",
    "result['coefficients'] = lr_model.coefficients\n",
    "result.loc[len(result.index)] = ['', 'Intercept', lr_model.intercept]\n",
    "\n",
    "trainingSummary = lr_model.summary\n",
    "result['StdErr'] = trainingSummary.coefficientStandardErrors\n",
    "result['t-value'] = trainingSummary.tValues\n",
    "result['p-Value'] = trainingSummary.pValues"
   ]
  },
  {
   "cell_type": "code",
   "execution_count": 141,
   "id": "5a28c7ed",
   "metadata": {},
   "outputs": [
    {
     "data": {
      "text/html": [
       "<div>\n",
       "<style scoped>\n",
       "    .dataframe tbody tr th:only-of-type {\n",
       "        vertical-align: middle;\n",
       "    }\n",
       "\n",
       "    .dataframe tbody tr th {\n",
       "        vertical-align: top;\n",
       "    }\n",
       "\n",
       "    .dataframe thead th {\n",
       "        text-align: right;\n",
       "    }\n",
       "</style>\n",
       "<table border=\"1\" class=\"dataframe\">\n",
       "  <thead>\n",
       "    <tr style=\"text-align: right;\">\n",
       "      <th></th>\n",
       "      <th>idx</th>\n",
       "      <th>name</th>\n",
       "      <th>coefficients</th>\n",
       "      <th>StdErr</th>\n",
       "      <th>t-value</th>\n",
       "      <th>p-Value</th>\n",
       "    </tr>\n",
       "  </thead>\n",
       "  <tbody>\n",
       "    <tr>\n",
       "      <th>0</th>\n",
       "      <td>0</td>\n",
       "      <td>age</td>\n",
       "      <td>268.391973</td>\n",
       "      <td>14.573079</td>\n",
       "      <td>18.416971</td>\n",
       "      <td>0.000000</td>\n",
       "    </tr>\n",
       "    <tr>\n",
       "      <th>1</th>\n",
       "      <td>1</td>\n",
       "      <td>bmi</td>\n",
       "      <td>334.680828</td>\n",
       "      <td>35.249062</td>\n",
       "      <td>9.494744</td>\n",
       "      <td>0.000000</td>\n",
       "    </tr>\n",
       "    <tr>\n",
       "      <th>2</th>\n",
       "      <td>2</td>\n",
       "      <td>children</td>\n",
       "      <td>477.312958</td>\n",
       "      <td>174.719054</td>\n",
       "      <td>2.731888</td>\n",
       "      <td>0.006418</td>\n",
       "    </tr>\n",
       "    <tr>\n",
       "      <th>3</th>\n",
       "      <td>3</td>\n",
       "      <td>genderVec_male</td>\n",
       "      <td>274.739755</td>\n",
       "      <td>409.769061</td>\n",
       "      <td>0.670475</td>\n",
       "      <td>0.502724</td>\n",
       "    </tr>\n",
       "    <tr>\n",
       "      <th>4</th>\n",
       "      <td>4</td>\n",
       "      <td>smokerVec_no</td>\n",
       "      <td>-24300.556924</td>\n",
       "      <td>517.795015</td>\n",
       "      <td>-46.930844</td>\n",
       "      <td>0.000000</td>\n",
       "    </tr>\n",
       "    <tr>\n",
       "      <th>5</th>\n",
       "      <td>5</td>\n",
       "      <td>regionVec_southeast</td>\n",
       "      <td>-958.430510</td>\n",
       "      <td>590.778618</td>\n",
       "      <td>-1.622318</td>\n",
       "      <td>0.105078</td>\n",
       "    </tr>\n",
       "    <tr>\n",
       "      <th>6</th>\n",
       "      <td>6</td>\n",
       "      <td>regionVec_northwest</td>\n",
       "      <td>-355.411094</td>\n",
       "      <td>591.829733</td>\n",
       "      <td>-0.600529</td>\n",
       "      <td>0.548301</td>\n",
       "    </tr>\n",
       "    <tr>\n",
       "      <th>7</th>\n",
       "      <td>7</td>\n",
       "      <td>regionVec_southwest</td>\n",
       "      <td>-1167.318632</td>\n",
       "      <td>587.845607</td>\n",
       "      <td>-1.985757</td>\n",
       "      <td>0.047357</td>\n",
       "    </tr>\n",
       "    <tr>\n",
       "      <th>8</th>\n",
       "      <td></td>\n",
       "      <td>Intercept</td>\n",
       "      <td>11916.133736</td>\n",
       "      <td>1282.144173</td>\n",
       "      <td>9.293911</td>\n",
       "      <td>0.000000</td>\n",
       "    </tr>\n",
       "  </tbody>\n",
       "</table>\n",
       "</div>"
      ],
      "text/plain": [
       "  idx                 name  coefficients       StdErr    t-value   p-Value\n",
       "0   0                  age    268.391973    14.573079  18.416971  0.000000\n",
       "1   1                  bmi    334.680828    35.249062   9.494744  0.000000\n",
       "2   2             children    477.312958   174.719054   2.731888  0.006418\n",
       "3   3       genderVec_male    274.739755   409.769061   0.670475  0.502724\n",
       "4   4         smokerVec_no -24300.556924   517.795015 -46.930844  0.000000\n",
       "5   5  regionVec_southeast   -958.430510   590.778618  -1.622318  0.105078\n",
       "6   6  regionVec_northwest   -355.411094   591.829733  -0.600529  0.548301\n",
       "7   7  regionVec_southwest  -1167.318632   587.845607  -1.985757  0.047357\n",
       "8                Intercept  11916.133736  1282.144173   9.293911  0.000000"
      ]
     },
     "execution_count": 141,
     "metadata": {},
     "output_type": "execute_result"
    }
   ],
   "source": [
    "result"
   ]
  },
  {
   "cell_type": "markdown",
   "id": "ac1a0191",
   "metadata": {},
   "source": [
    "### Evaluate"
   ]
  },
  {
   "cell_type": "code",
   "execution_count": 142,
   "id": "2e7cfec3",
   "metadata": {},
   "outputs": [],
   "source": [
    "trainresult = lr_model.evaluate(train)\n",
    "testresult = lr_model.evaluate(test)"
   ]
  },
  {
   "cell_type": "code",
   "execution_count": 143,
   "id": "31e5000b",
   "metadata": {},
   "outputs": [
    {
     "name": "stdout",
     "output_type": "stream",
     "text": [
      "RMSE on traindata : 6179.168022540979\n",
      "RMSE on testdata : 5754.937235997628\n",
      "R2 on traindata : 0.7443162962944101\n",
      "R2 on testdata : 0.7637429043673949\n"
     ]
    }
   ],
   "source": [
    "print('RMSE on traindata :', trainresult.rootMeanSquaredError)\n",
    "print('RMSE on testdata :', testresult.rootMeanSquaredError)\n",
    "\n",
    "print('R2 on traindata :', trainresult.r2)\n",
    "print('R2 on testdata :', testresult.r2)"
   ]
  },
  {
   "cell_type": "markdown",
   "id": "32edcefa",
   "metadata": {},
   "source": [
    "### VIF Calculation"
   ]
  },
  {
   "cell_type": "code",
   "execution_count": 144,
   "id": "beffead1",
   "metadata": {},
   "outputs": [],
   "source": [
    "def get_vif(data, features_list):\n",
    "    vif=[]\n",
    "    for i in features_list:\n",
    "        temp_features = features_list.copy()\n",
    "        temp_features.remove(i)\n",
    "        temp_target = i\n",
    "        assembler = VectorAssembler(inputCols=temp_features, outputCol='x_features')\n",
    "        temp_df = assembler.transform(data)\n",
    "        reg = LinearRegression(featuresCol='x_features', labelCol=i)\n",
    "        reg_model = reg.fit(temp_df)\n",
    "        temp_vif = 1/(1-reg_model.summary.r2)\n",
    "        vif.append(temp_vif)\n",
    "    return vif\n",
    "data_sel = data.select('age', 'genderNum','smokerNum','children','regionNum','bmi')"
   ]
  },
  {
   "cell_type": "code",
   "execution_count": 145,
   "id": "1d6dfa34",
   "metadata": {},
   "outputs": [
    {
     "name": "stdout",
     "output_type": "stream",
     "text": [
      "['age', 'gender', 'bmi', 'children', 'smoker', 'region', 'expenses', 'genderNum', 'smokerNum', 'regionNum']\n"
     ]
    }
   ],
   "source": [
    "print(data.columns)"
   ]
  },
  {
   "cell_type": "code",
   "execution_count": 148,
   "id": "73f5f476",
   "metadata": {},
   "outputs": [],
   "source": [
    "data_sel = data.select('age', 'genderNum','smokerNum','children','regionNum','bmi')"
   ]
  },
  {
   "cell_type": "code",
   "execution_count": 149,
   "id": "623b1c93",
   "metadata": {},
   "outputs": [],
   "source": [
    "features_all = data_sel.columns"
   ]
  },
  {
   "cell_type": "code",
   "execution_count": 150,
   "id": "d542f3aa",
   "metadata": {},
   "outputs": [
    {
     "data": {
      "text/plain": [
       "[1.0162959797371278,\n",
       " 1.0088903065085382,\n",
       " 1.0079321173707683,\n",
       " 1.0022432774934356,\n",
       " 1.0505831338762388,\n",
       " 1.064159440508893]"
      ]
     },
     "execution_count": 150,
     "metadata": {},
     "output_type": "execute_result"
    }
   ],
   "source": [
    "get_vif(data_sel, features_all)"
   ]
  },
  {
   "cell_type": "markdown",
   "id": "a9b257f1",
   "metadata": {},
   "source": [
    "### Random Forest"
   ]
  },
  {
   "cell_type": "code",
   "execution_count": 163,
   "id": "4a97b32d",
   "metadata": {},
   "outputs": [],
   "source": [
    "from pyspark.ml.regression import RandomForestRegressor, GBTRegressor, RandomForestRegressionModel\n",
    "from pyspark.ml.evaluation import RegressionEvaluator\n",
    "rf = RandomForestRegressor(featuresCol='features', labelCol='expenses')\n",
    "rf_model = rf.fit(train)"
   ]
  },
  {
   "cell_type": "markdown",
   "id": "81dc102c",
   "metadata": {},
   "source": [
    "#### RF: Predict"
   ]
  },
  {
   "cell_type": "code",
   "execution_count": 161,
   "id": "3ed4b47e",
   "metadata": {},
   "outputs": [],
   "source": [
    "rf_trainpred = rf_model.transform(train)\n",
    "rf_testpred = rf_model.transform(test)"
   ]
  },
  {
   "cell_type": "code",
   "execution_count": 172,
   "id": "b82b051c",
   "metadata": {},
   "outputs": [
    {
     "name": "stdout",
     "output_type": "stream",
     "text": [
      "R2 Train data:  0.8452840454376627\n",
      "R2 Test data:  0.8673480528278091\n",
      "RMSE Train data:  4806.689081215364\n",
      "RMSE Test data:  4312.260375424029\n"
     ]
    }
   ],
   "source": [
    "r2evaluator = RegressionEvaluator(labelCol='expenses', predictionCol='prediction', metricName='r2')\n",
    "rfTrainR2 = r2evaluator.evaluate(rf_trainpred)\n",
    "print('R2 Train data: ', rfTrainR2)\n",
    "\n",
    "rfTestR2 = r2evaluator.evaluate(rf_testpred)\n",
    "print('R2 Test data: ', rfTestR2)\n",
    "\n",
    "rmseevaluator = RegressionEvaluator(labelCol='expenses', predictionCol='prediction', metricName='rmse')\n",
    "rfTrainRMSE = rmseevaluator.evaluate(rf_trainpred)\n",
    "print('RMSE Train data: ', rfTrainRMSE)\n",
    "\n",
    "rfTestRMSE = rmseevaluator.evaluate(rf_testpred)\n",
    "print('RMSE Test data: ', rfTestRMSE)"
   ]
  },
  {
   "cell_type": "code",
   "execution_count": 176,
   "id": "db98bdde",
   "metadata": {},
   "outputs": [
    {
     "name": "stdout",
     "output_type": "stream",
     "text": [
      "+--------------------+--------+------------------+\n",
      "|            features|expenses|        prediction|\n",
      "+--------------------+--------+------------------+\n",
      "|(8,[0,1],[18.0,21...|14283.46|16430.379412496033|\n",
      "|(8,[0,1],[24.0,20...|14571.89| 16950.86419188861|\n",
      "+--------------------+--------+------------------+\n",
      "only showing top 2 rows\n",
      "\n"
     ]
    }
   ],
   "source": [
    "rf_trainpred.show(2)"
   ]
  },
  {
   "cell_type": "code",
   "execution_count": 182,
   "id": "cb0bcbdf",
   "metadata": {},
   "outputs": [
    {
     "data": {
      "text/plain": [
       "SparseVector(8, {0: 0.1113, 1: 0.1159, 2: 0.0168, 3: 0.007, 4: 0.7343, 5: 0.0064, 6: 0.0046, 7: 0.0036})"
      ]
     },
     "execution_count": 182,
     "metadata": {},
     "output_type": "execute_result"
    }
   ],
   "source": [
    "featureimp = rf_model.featureImportances\n",
    "featureimp"
   ]
  },
  {
   "cell_type": "code",
   "execution_count": 183,
   "id": "ccaebdcc",
   "metadata": {},
   "outputs": [
    {
     "data": {
      "text/plain": [
       "{'attrs': {'numeric': [{'idx': 0, 'name': 'age'},\n",
       "   {'idx': 1, 'name': 'bmi'},\n",
       "   {'idx': 2, 'name': 'children'}],\n",
       "  'binary': [{'idx': 3, 'name': 'genderVec_male'},\n",
       "   {'idx': 4, 'name': 'smokerVec_no'},\n",
       "   {'idx': 5, 'name': 'regionVec_southeast'},\n",
       "   {'idx': 6, 'name': 'regionVec_northwest'},\n",
       "   {'idx': 7, 'name': 'regionVec_southwest'}]},\n",
       " 'num_attrs': 8}"
      ]
     },
     "execution_count": 183,
     "metadata": {},
     "output_type": "execute_result"
    }
   ],
   "source": [
    "rf_trainpred.select('features').schema[0].metadata.get('ml_attr')"
   ]
  },
  {
   "cell_type": "code",
   "execution_count": 205,
   "id": "6b519b54",
   "metadata": {},
   "outputs": [
    {
     "data": {
      "text/plain": [
       "[{'idx': 0, 'name': 'age'},\n",
       " {'idx': 1, 'name': 'bmi'},\n",
       " {'idx': 2, 'name': 'children'},\n",
       " {'idx': 3, 'name': 'genderVec_male'},\n",
       " {'idx': 4, 'name': 'smokerVec_no'},\n",
       " {'idx': 5, 'name': 'regionVec_southeast'},\n",
       " {'idx': 6, 'name': 'regionVec_northwest'},\n",
       " {'idx': 7, 'name': 'regionVec_southwest'}]"
      ]
     },
     "execution_count": 205,
     "metadata": {},
     "output_type": "execute_result"
    }
   ],
   "source": [
    "num_data = rf_trainpred.select('features').schema[0].metadata.get('ml_attr').get('attrs').get('numeric')\n",
    "bin_data = rf_trainpred.select('features').schema[0].metadata.get('ml_attr').get('attrs').get('binary')\n",
    "merge_list = num_data + bin_data\n",
    "merge_list"
   ]
  },
  {
   "cell_type": "code",
   "execution_count": 206,
   "id": "87170533",
   "metadata": {},
   "outputs": [
    {
     "data": {
      "text/html": [
       "<div>\n",
       "<style scoped>\n",
       "    .dataframe tbody tr th:only-of-type {\n",
       "        vertical-align: middle;\n",
       "    }\n",
       "\n",
       "    .dataframe tbody tr th {\n",
       "        vertical-align: top;\n",
       "    }\n",
       "\n",
       "    .dataframe thead th {\n",
       "        text-align: right;\n",
       "    }\n",
       "</style>\n",
       "<table border=\"1\" class=\"dataframe\">\n",
       "  <thead>\n",
       "    <tr style=\"text-align: right;\">\n",
       "      <th></th>\n",
       "      <th>idx</th>\n",
       "      <th>name</th>\n",
       "    </tr>\n",
       "  </thead>\n",
       "  <tbody>\n",
       "    <tr>\n",
       "      <th>0</th>\n",
       "      <td>0</td>\n",
       "      <td>age</td>\n",
       "    </tr>\n",
       "    <tr>\n",
       "      <th>1</th>\n",
       "      <td>1</td>\n",
       "      <td>bmi</td>\n",
       "    </tr>\n",
       "    <tr>\n",
       "      <th>2</th>\n",
       "      <td>2</td>\n",
       "      <td>children</td>\n",
       "    </tr>\n",
       "    <tr>\n",
       "      <th>3</th>\n",
       "      <td>3</td>\n",
       "      <td>genderVec_male</td>\n",
       "    </tr>\n",
       "    <tr>\n",
       "      <th>4</th>\n",
       "      <td>4</td>\n",
       "      <td>smokerVec_no</td>\n",
       "    </tr>\n",
       "    <tr>\n",
       "      <th>5</th>\n",
       "      <td>5</td>\n",
       "      <td>regionVec_southeast</td>\n",
       "    </tr>\n",
       "    <tr>\n",
       "      <th>6</th>\n",
       "      <td>6</td>\n",
       "      <td>regionVec_northwest</td>\n",
       "    </tr>\n",
       "    <tr>\n",
       "      <th>7</th>\n",
       "      <td>7</td>\n",
       "      <td>regionVec_southwest</td>\n",
       "    </tr>\n",
       "  </tbody>\n",
       "</table>\n",
       "</div>"
      ],
      "text/plain": [
       "   idx                 name\n",
       "0    0                  age\n",
       "1    1                  bmi\n",
       "2    2             children\n",
       "3    3       genderVec_male\n",
       "4    4         smokerVec_no\n",
       "5    5  regionVec_southeast\n",
       "6    6  regionVec_northwest\n",
       "7    7  regionVec_southwest"
      ]
     },
     "execution_count": 206,
     "metadata": {},
     "output_type": "execute_result"
    }
   ],
   "source": [
    "feature_list = pd.DataFrame(merge_list)\n",
    "feature_list"
   ]
  },
  {
   "cell_type": "code",
   "execution_count": 204,
   "id": "b4ae9920",
   "metadata": {},
   "outputs": [],
   "source": [
    "#feature_list[\"Importance\"] = rf_model.featureImportances"
   ]
  },
  {
   "cell_type": "code",
   "execution_count": 207,
   "id": "5de791a5",
   "metadata": {},
   "outputs": [
    {
     "data": {
      "text/plain": [
       "[0.11133389994726273,\n",
       " 0.11592827067567313,\n",
       " 0.016796210963029072,\n",
       " 0.007038462402084077,\n",
       " 0.7343010579663432,\n",
       " 0.006413506303971288,\n",
       " 0.0045605766902042915,\n",
       " 0.003628015051432368]"
      ]
     },
     "execution_count": 207,
     "metadata": {},
     "output_type": "execute_result"
    }
   ],
   "source": [
    "importance = list(rf_model.featureImportances)\n",
    "importance"
   ]
  },
  {
   "cell_type": "code",
   "execution_count": 208,
   "id": "0036a118",
   "metadata": {},
   "outputs": [
    {
     "data": {
      "text/html": [
       "<div>\n",
       "<style scoped>\n",
       "    .dataframe tbody tr th:only-of-type {\n",
       "        vertical-align: middle;\n",
       "    }\n",
       "\n",
       "    .dataframe tbody tr th {\n",
       "        vertical-align: top;\n",
       "    }\n",
       "\n",
       "    .dataframe thead th {\n",
       "        text-align: right;\n",
       "    }\n",
       "</style>\n",
       "<table border=\"1\" class=\"dataframe\">\n",
       "  <thead>\n",
       "    <tr style=\"text-align: right;\">\n",
       "      <th></th>\n",
       "      <th>idx</th>\n",
       "      <th>name</th>\n",
       "      <th>Importance</th>\n",
       "    </tr>\n",
       "  </thead>\n",
       "  <tbody>\n",
       "    <tr>\n",
       "      <th>4</th>\n",
       "      <td>4</td>\n",
       "      <td>smokerVec_no</td>\n",
       "      <td>0.734301</td>\n",
       "    </tr>\n",
       "    <tr>\n",
       "      <th>1</th>\n",
       "      <td>1</td>\n",
       "      <td>bmi</td>\n",
       "      <td>0.115928</td>\n",
       "    </tr>\n",
       "    <tr>\n",
       "      <th>0</th>\n",
       "      <td>0</td>\n",
       "      <td>age</td>\n",
       "      <td>0.111334</td>\n",
       "    </tr>\n",
       "    <tr>\n",
       "      <th>2</th>\n",
       "      <td>2</td>\n",
       "      <td>children</td>\n",
       "      <td>0.016796</td>\n",
       "    </tr>\n",
       "    <tr>\n",
       "      <th>3</th>\n",
       "      <td>3</td>\n",
       "      <td>genderVec_male</td>\n",
       "      <td>0.007038</td>\n",
       "    </tr>\n",
       "    <tr>\n",
       "      <th>5</th>\n",
       "      <td>5</td>\n",
       "      <td>regionVec_southeast</td>\n",
       "      <td>0.006414</td>\n",
       "    </tr>\n",
       "    <tr>\n",
       "      <th>6</th>\n",
       "      <td>6</td>\n",
       "      <td>regionVec_northwest</td>\n",
       "      <td>0.004561</td>\n",
       "    </tr>\n",
       "    <tr>\n",
       "      <th>7</th>\n",
       "      <td>7</td>\n",
       "      <td>regionVec_southwest</td>\n",
       "      <td>0.003628</td>\n",
       "    </tr>\n",
       "  </tbody>\n",
       "</table>\n",
       "</div>"
      ],
      "text/plain": [
       "   idx                 name  Importance\n",
       "4    4         smokerVec_no    0.734301\n",
       "1    1                  bmi    0.115928\n",
       "0    0                  age    0.111334\n",
       "2    2             children    0.016796\n",
       "3    3       genderVec_male    0.007038\n",
       "5    5  regionVec_southeast    0.006414\n",
       "6    6  regionVec_northwest    0.004561\n",
       "7    7  regionVec_southwest    0.003628"
      ]
     },
     "execution_count": 208,
     "metadata": {},
     "output_type": "execute_result"
    }
   ],
   "source": [
    "# Get feature imp and attach to result\n",
    "feature_list['Importance'] = importance\n",
    "feature_list.sort_values(\"Importance\", ascending=False, inplace=True)\n",
    "feature_list"
   ]
  },
  {
   "cell_type": "code",
   "execution_count": 212,
   "id": "0e677c4e",
   "metadata": {},
   "outputs": [],
   "source": [
    "#!pip install matplotlib"
   ]
  },
  {
   "cell_type": "code",
   "execution_count": 213,
   "id": "1e6860ff",
   "metadata": {},
   "outputs": [],
   "source": [
    "import matplotlib.pyplot as plt"
   ]
  },
  {
   "cell_type": "code",
   "execution_count": 225,
   "id": "e72cfb64",
   "metadata": {},
   "outputs": [
    {
     "data": {
      "text/plain": [
       "Text(0, 0.5, 'Features')"
      ]
     },
     "execution_count": 225,
     "metadata": {},
     "output_type": "execute_result"
    },
    {
     "data": {
      "image/png": "[encoded data removed]",
      "text/plain": [
       "<Figure size 792x432 with 1 Axes>"
      ]
     },
     "metadata": {
      "needs_background": "light"
     },
     "output_type": "display_data"
    }
   ],
   "source": [
    "feature_list.sort_values(\"Importance\", ascending=True, inplace=True)\n",
    "plt.figure(figsize=(11,6))\n",
    "plt.barh(feature_list['name'], feature_list['Importance'], color='darkgreen')\n",
    "plt.title('Feature Importance (Random Forest Model)')\n",
    "plt.xlabel('Importance score')\n",
    "plt.ylabel('Features')"
   ]
  },
  {
   "cell_type": "markdown",
   "id": "67c73c31",
   "metadata": {},
   "source": [
    "### END END END"
   ]
  }
 ],
 "metadata": {
  "kernelspec": {
   "display_name": "env_pyspark",
   "language": "python",
   "name": "env_pyspark"
  },
  "language_info": {
   "codemirror_mode": {
    "name": "ipython",
    "version": 3
   },
   "file_extension": ".py",
   "mimetype": "text/x-python",
   "name": "python",
   "nbconvert_exporter": "python",
   "pygments_lexer": "ipython3",
   "version": "3.9.7"
  }
 },
 "nbformat": 4,
 "nbformat_minor": 5
}
