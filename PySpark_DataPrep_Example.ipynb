{
 "cells": [
  {
   "cell_type": "code",
   "execution_count": 1,
   "id": "5bb570a0",
   "metadata": {},
   "outputs": [],
   "source": [
    "# This is important to run at the begenning\n",
    "import findspark\n",
    "findspark.init()\n",
    "## Start SparkSession\n",
    "from pyspark.sql import SparkSession\n",
    "spark = SparkSession.builder.appName('data_example').getOrCreate()"
   ]
  },
  {
   "cell_type": "code",
   "execution_count": 2,
   "id": "826e0eaf",
   "metadata": {},
   "outputs": [],
   "source": [
    "data = spark.createDataFrame(\n",
    "[(1, 289, 'MD'),\n",
    " (2, 889, 'MD'),\n",
    " (3, 633, 'VA'),\n",
    " (4, 455, 'WA'),\n",
    " (5, 550, 'WA'),\n",
    " (6, 400, 'WA'),\n",
    "], ['product_id', 'monthly_sale', 'state'])"
   ]
  },
  {
   "cell_type": "code",
   "execution_count": 3,
   "id": "18410df1",
   "metadata": {},
   "outputs": [
    {
     "name": "stdout",
     "output_type": "stream",
     "text": [
      "+----------+------------+-----+\n",
      "|product_id|monthly_sale|state|\n",
      "+----------+------------+-----+\n",
      "|         1|         289|   MD|\n",
      "|         2|         889|   MD|\n",
      "|         3|         633|   VA|\n",
      "|         4|         455|   WA|\n",
      "|         5|         550|   WA|\n",
      "|         6|         400|   WA|\n",
      "+----------+------------+-----+\n",
      "\n"
     ]
    }
   ],
   "source": [
    "data.show()"
   ]
  },
  {
   "cell_type": "code",
   "execution_count": 4,
   "id": "feeb324d",
   "metadata": {},
   "outputs": [
    {
     "name": "stdout",
     "output_type": "stream",
     "text": [
      "root\n",
      " |-- product_id: long (nullable = true)\n",
      " |-- monthly_sale: long (nullable = true)\n",
      " |-- state: string (nullable = true)\n",
      "\n"
     ]
    }
   ],
   "source": [
    "data.printSchema()"
   ]
  },
  {
   "cell_type": "code",
   "execution_count": 5,
   "id": "c5c65d21",
   "metadata": {},
   "outputs": [
    {
     "name": "stdout",
     "output_type": "stream",
     "text": [
      "+----------+------------+-----+--------+\n",
      "|product_id|monthly_sale|state|stateNum|\n",
      "+----------+------------+-----+--------+\n",
      "|1         |289         |MD   |1.0     |\n",
      "|2         |889         |MD   |1.0     |\n",
      "|3         |633         |VA   |2.0     |\n",
      "|4         |455         |WA   |0.0     |\n",
      "|5         |550         |WA   |0.0     |\n",
      "|6         |400         |WA   |0.0     |\n",
      "+----------+------------+-----+--------+\n",
      "\n"
     ]
    }
   ],
   "source": [
    "# StringIndexer\n",
    "from pyspark.ml.feature import (StringIndexer, OneHotEncoder, VectorAssembler)\n",
    "indexer = StringIndexer(inputCol='state', outputCol='stateNum')\n",
    "indexed_data = indexer.fit(data).transform(data)\n",
    "indexed_data.show(10, truncate=False)"
   ]
  },
  {
   "cell_type": "code",
   "execution_count": 6,
   "id": "3a5b14ab",
   "metadata": {},
   "outputs": [
    {
     "name": "stdout",
     "output_type": "stream",
     "text": [
      "+----------+------------+-----+--------+-------------+\n",
      "|product_id|monthly_sale|state|stateNum|stateVec     |\n",
      "+----------+------------+-----+--------+-------------+\n",
      "|1         |289         |MD   |1.0     |(2,[1],[1.0])|\n",
      "|2         |889         |MD   |1.0     |(2,[1],[1.0])|\n",
      "|3         |633         |VA   |2.0     |(2,[],[])    |\n",
      "|4         |455         |WA   |0.0     |(2,[0],[1.0])|\n",
      "|5         |550         |WA   |0.0     |(2,[0],[1.0])|\n",
      "|6         |400         |WA   |0.0     |(2,[0],[1.0])|\n",
      "+----------+------------+-----+--------+-------------+\n",
      "\n"
     ]
    }
   ],
   "source": [
    "# OneHotEncoder\n",
    "encoder = OneHotEncoder(inputCol='stateNum', outputCol='stateVec')\n",
    "onehotdata = encoder.fit(indexed_data).transform(indexed_data)\n",
    "onehotdata.show(10, truncate=False)"
   ]
  },
  {
   "cell_type": "code",
   "execution_count": 7,
   "id": "73ff4981",
   "metadata": {},
   "outputs": [
    {
     "name": "stdout",
     "output_type": "stream",
     "text": [
      "+----------+------------+-----+--------+-------------+-------------------+\n",
      "|product_id|monthly_sale|state|stateNum|stateVec     |features           |\n",
      "+----------+------------+-----+--------+-------------+-------------------+\n",
      "|1         |289         |MD   |1.0     |(2,[1],[1.0])|[1.0,289.0,0.0,1.0]|\n",
      "|2         |889         |MD   |1.0     |(2,[1],[1.0])|[2.0,889.0,0.0,1.0]|\n",
      "|3         |633         |VA   |2.0     |(2,[],[])    |[3.0,633.0,0.0,0.0]|\n",
      "|4         |455         |WA   |0.0     |(2,[0],[1.0])|[4.0,455.0,1.0,0.0]|\n",
      "|5         |550         |WA   |0.0     |(2,[0],[1.0])|[5.0,550.0,1.0,0.0]|\n",
      "|6         |400         |WA   |0.0     |(2,[0],[1.0])|[6.0,400.0,1.0,0.0]|\n",
      "+----------+------------+-----+--------+-------------+-------------------+\n",
      "\n"
     ]
    }
   ],
   "source": [
    "# VectorAssembler\n",
    "assembler1 = VectorAssembler(\n",
    "inputCols=[\"product_id\", \"monthly_sale\", \"stateVec\"],\n",
    "outputCol=\"features\")\n",
    "outdata1 = assembler1.transform(onehotdata)\n",
    "outdata1.show(10, truncate=False)"
   ]
  },
  {
   "cell_type": "markdown",
   "id": "c83571e6",
   "metadata": {},
   "source": [
    "### END END END"
   ]
  }
 ],
 "metadata": {
  "kernelspec": {
   "display_name": "env_pyspark",
   "language": "python",
   "name": "env_pyspark"
  },
  "language_info": {
   "codemirror_mode": {
    "name": "ipython",
    "version": 3
   },
   "file_extension": ".py",
   "mimetype": "text/x-python",
   "name": "python",
   "nbconvert_exporter": "python",
   "pygments_lexer": "ipython3",
   "version": "3.9.7"
  }
 },
 "nbformat": 4,
 "nbformat_minor": 5
}
